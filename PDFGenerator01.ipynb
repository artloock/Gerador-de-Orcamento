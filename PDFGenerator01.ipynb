{
 "cells": [
  {
   "cell_type": "markdown",
   "metadata": {},
   "source": [
    "# Gerador de Orçamento PDF"
   ]
  },
  {
   "cell_type": "code",
   "execution_count": 6,
   "metadata": {},
   "outputs": [],
   "source": [
    "from fpdf import FPDF"
   ]
  },
  {
   "cell_type": "code",
   "execution_count": null,
   "metadata": {},
   "outputs": [],
   "source": [
    "Project = input('Project description: ')\n",
    "project_est_time = input('Project estimated time: ')\n",
    "hour_value = input('Hour time value: ')\n",
    "deliver_date = input('Estimate deliveri time: ')\n"
   ]
  },
  {
   "cell_type": "code",
   "execution_count": null,
   "metadata": {},
   "outputs": [],
   "source": [
    "total_value = int(project_est_time)*int(hour_value)"
   ]
  },
  {
   "cell_type": "code",
   "execution_count": null,
   "metadata": {},
   "outputs": [],
   "source": [
    "pdf = FPDF()\n",
    "pdf.add_page()\n",
    "pdf.set_font('Arial')\n",
    "\n",
    "pdf.image(\"template.png\",x=0, y=0)\n",
    "\n",
    "pdf.text(115, 145, Project)\n",
    "pdf.text(115, 160, project_est_time)\n",
    "pdf.text(115, 175, hour_value)\n",
    "pdf.text(115, 190, deliver_date)\n",
    "pdf.text(115, 205, str(total_value))\n",
    "\n",
    "pdf.output('Orçamento.pdf')"
   ]
  },
  {
   "cell_type": "code",
   "execution_count": null,
   "metadata": {},
   "outputs": [],
   "source": [
    "print('Orçamento gerado com sucesso!')"
   ]
  }
 ],
 "metadata": {
  "kernelspec": {
   "display_name": "base",
   "language": "python",
   "name": "python3"
  },
  "language_info": {
   "codemirror_mode": {
    "name": "ipython",
    "version": 3
   },
   "file_extension": ".py",
   "mimetype": "text/x-python",
   "name": "python",
   "nbconvert_exporter": "python",
   "pygments_lexer": "ipython3",
   "version": "3.9.13"
  }
 },
 "nbformat": 4,
 "nbformat_minor": 2
}
